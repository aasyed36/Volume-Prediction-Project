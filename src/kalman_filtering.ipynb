{
 "cells": [
  {
   "cell_type": "code",
   "execution_count": null,
   "id": "df681c1a",
   "metadata": {},
   "outputs": [],
   "source": [
    "import numpy as np\n",
    "import pandas as pd\n",
    "import matplotlib.pyplot as plt\n",
    "from scipy.stats import multivariate_normal\n",
    "from statsmodels.graphics.gofplots import qqplot\n",
    "from kalman_predictor import *\n",
    "\n",
    "df = pd.read_csv(\"../data/TAQ_30Min_AAPL_2023_normalized.csv\")\n",
    "df.index = df.datetime\n",
    "df[\"Log_Turnover\"] = np.log(df[\"Normalized_TURNOVER\"])\n",
    "df.info()"
   ]
  },
  {
   "cell_type": "markdown",
   "id": "287816dc",
   "metadata": {},
   "source": [
    "## Preliminary: QQ plot\n",
    "Since the Kalman filter paper has one"
   ]
  },
  {
   "cell_type": "code",
   "execution_count": null,
   "id": "f6365a88",
   "metadata": {},
   "outputs": [],
   "source": [
    "qq_nolog = qqplot(df[\"Normalized_TURNOVER\"], line=\"s\")\n",
    "plt.tight_layout()\n",
    "plt.show()\n",
    "plt.savefig(\"nolog_qqplot.pdf\")"
   ]
  },
  {
   "cell_type": "code",
   "execution_count": null,
   "id": "df6e9c39",
   "metadata": {},
   "outputs": [],
   "source": [
    "qq_log = qqplot(np.log(df[\"Normalized_TURNOVER\"]), line=\"s\")\n",
    "plt.tight_layout()\n",
    "plt.show()\n",
    "plt.savefig(\"log_qqplot.pdf\")"
   ]
  },
  {
   "cell_type": "code",
   "execution_count": null,
   "id": "c31b656c",
   "metadata": {},
   "outputs": [],
   "source": [
    "C = np.ones((1,2))\n",
    "C.shape"
   ]
  },
  {
   "cell_type": "markdown",
   "id": "59b83e06",
   "metadata": {},
   "source": [
    "## Kalman filtering"
   ]
  },
  {
   "cell_type": "code",
   "execution_count": null,
   "id": "65333043",
   "metadata": {},
   "outputs": [],
   "source": [
    "# initialization, I got this from the Kalman filtering paper\n",
    "theta = Params(np.zeros(2), np.identity(2)*0.5, 1.0, 1.0, 0.0025, 0.0025, 0.0005, np.array([0.6, 0.25, 0.0, -0.15, -0.3, -0.45, -0.5, -0.6, -0.5, -0.25, -0.3, -0.1, 0.4]))\n",
    "predictor = KalmanPredictor(theta)"
   ]
  },
  {
   "cell_type": "code",
   "execution_count": null,
   "id": "ec2ee6d3",
   "metadata": {},
   "outputs": [],
   "source": [
    "\"\"\"\n",
    "def kalman_filtering(tau, x_hat_tau, y_tau_plus, Sigma_tau_tau, params):\n",
    "    A = params.A(tau)\n",
    "    x_hat_tau_plus = A @ x_hat_tau # predict mean\n",
    "    Sigma_tau_plus = A @ Sigma_tau_tau @ A.T + params.Q(tau) # predict covariance\n",
    "    \n",
    "    # compute Kalman gain\n",
    "    K_tau_plus = Sigma_tau_plus @ C.T @ np.linalg.inv(C @ Sigma_tau_plus @ C.T + params.r)\n",
    "    \n",
    "    # correct conditional mean\n",
    "    x_hat_next = x_hat_tau_plus + K_tau_plus @ (y_tau_plus - params.phi[tau%13] - C@x_hat_tau_plus)\n",
    "    Sigma_next = Sigma_tau_plus - K_tau_plus @ C @ Sigma_tau_plus\n",
    "    #print(\"x_hat_next\", x_hat_next.shape, \"Sigma_next\", Sigma_next.shape)\n",
    "    return x_hat_next, Sigma_next\n",
    "\"\"\""
   ]
  },
  {
   "cell_type": "code",
   "execution_count": null,
   "id": "05795dec",
   "metadata": {},
   "outputs": [],
   "source": [
    "# set up and run a dimensional test\n",
    "y_1 = df.head(1)[\"Log_Turnover\"]\n",
    "x_1 = np.reshape(np.array([y_1/2, y_1/2]), 2)\n",
    "Sigma_1 = np.eye(2)\n",
    "x_plus, Sigma_plus = kalman_filtering(1, x_1, y_1, Sigma_1, theta)\n",
    "print(\"Shape should be {}: x.shape = {}\".format(2, x_plus.shape))\n",
    "print(\"Shape should be {} x {}: Sigma.shape = {}\".format(2, 2, Sigma_plus.shape))\n",
    "theta = Params(x_1, np.identity(2)*0.5, 1.0, 1.0, 0.0025, 0.0025, 0.0005, np.array([0.6, 0.25, 0.0, -0.15, -0.3, -0.45, -0.5, -0.6, -0.5, -0.25, -0.3, -0.1, 0.4]))"
   ]
  },
  {
   "cell_type": "markdown",
   "id": "fd252eab",
   "metadata": {},
   "source": [
    "## Kalman smoothing"
   ]
  },
  {
   "cell_type": "code",
   "execution_count": null,
   "id": "2e740691",
   "metadata": {},
   "outputs": [],
   "source": [
    "ys = df[\"Log_Turnover\"].to_numpy()\n",
    "#ys = np.reshape(ys, (int(ys.shape[0]/T), T)) # reshape ys to (N_days, T)\n",
    "\n",
    "N_train = 50\n",
    "\n",
    "x_tau_n, Sigma_tau_n, _, _, _ = kalman_smoothing(x_1, ys[0:N_train], Sigma_1, theta)\n",
    "# dimensional check again\n",
    "print(x_tau_n.shape)\n",
    "print(Sigma_tau_n.shape)"
   ]
  },
  {
   "cell_type": "markdown",
   "id": "80e9975b",
   "metadata": {},
   "source": [
    "## Expectation maximization\n",
    "In this step we want to predict $x_\\tau = [\\eta_\\tau\\ \\mu_\\tau]^\\top \\in \\mathbb{R}^2$ which is the hidden state vector. The variables $\\eta_\\tau$ and $\\mu_\\tau$ are the daily average and intraday dynamic part of the log volume."
   ]
  },
  {
   "cell_type": "code",
   "execution_count": null,
   "id": "c7dc0d23",
   "metadata": {},
   "outputs": [],
   "source": [
    "new_params = em(x_1, ys[1:N_train*13], theta, maxsteps=25, tol=0.05)"
   ]
  },
  {
   "cell_type": "code",
   "execution_count": null,
   "id": "87251cc4",
   "metadata": {},
   "outputs": [],
   "source": [
    "# TEST - undo this\n",
    "# It seems like the phi parameter converges to a wrong thing. If we use the guess of phi it works much better\n",
    "# WHY?\n",
    "# test_params = Params(new_params.pi, new_params.Sigma, new_params.a_eta, new_params.a_mu,\n",
    "                     # new_params.sigma_eta_sq, new_params.sigma_mu_sq, new_params.r, theta.phi)\n",
    "test_params = new_params"
   ]
  },
  {
   "cell_type": "code",
   "execution_count": null,
   "id": "607accda",
   "metadata": {
    "scrolled": true
   },
   "outputs": [],
   "source": [
    "predictor = KalmanPredictor(test_params) # we already trained them in the previous cell, holdover from previous code"
   ]
  },
  {
   "cell_type": "markdown",
   "id": "88b2bd21",
   "metadata": {},
   "source": [
    "## Test Kalman filter with given params"
   ]
  },
  {
   "cell_type": "code",
   "execution_count": null,
   "id": "d1640e70",
   "metadata": {},
   "outputs": [],
   "source": [
    "N = df[\"Log_Turnover\"].size"
   ]
  },
  {
   "cell_type": "code",
   "execution_count": null,
   "id": "f22b3fa8",
   "metadata": {},
   "outputs": [],
   "source": [
    "y_t = df.iloc[0:1][\"Log_Turnover\"]\n",
    "x_t = np.reshape(np.array([y_t/2, y_t/2]), 2)\n",
    "xs = [x_t,]\n",
    "\n",
    "Sigma_t = np.identity(2)\n",
    "sigmas = [Sigma_t,]\n",
    "\n",
    "y_pred = [y_t]\n",
    "y_pred = predictor.predict_alike(df[\"Log_Turnover\"])"
   ]
  },
  {
   "cell_type": "code",
   "execution_count": null,
   "id": "9604973a",
   "metadata": {},
   "outputs": [],
   "source": [
    "errs = [np.mean(np.square(y_pred[i] - df.iloc[i:i+1][\"Log_Turnover\"])) for i in range(N)]"
   ]
  },
  {
   "cell_type": "code",
   "execution_count": null,
   "id": "0c947944",
   "metadata": {},
   "outputs": [],
   "source": [
    "y_t = df.iloc[0:1][\"Log_Turnover\"]\n",
    "x_t = np.reshape(np.array([y_t/2, y_t/2]), 2)\n",
    "\n",
    "Sigma_t = np.identity(2)\n",
    "\n",
    "y_pred_new = [y_t]\n",
    "I = 13\n",
    "for i in range(N):\n",
    "    y_t = df.iloc[i:i+1][\"Log_Turnover\"]\n",
    "    x_plus, Sigma_plus = kalman_filtering(i, x_t, y_t, Sigma_t, test_params)\n",
    "    y_pred_new.append((C@x_plus)[0] + test_params.phi[i%I])"
   ]
  },
  {
   "cell_type": "code",
   "execution_count": null,
   "id": "40783197",
   "metadata": {},
   "outputs": [],
   "source": [
    "errs_new = [np.mean(np.square(y_pred_new[i] - df.iloc[i:i+1][\"Log_Turnover\"])) for i in range(N)]"
   ]
  },
  {
   "cell_type": "markdown",
   "id": "6c6276c5",
   "metadata": {},
   "source": [
    "### Comparison: hourly average over the year"
   ]
  },
  {
   "cell_type": "code",
   "execution_count": null,
   "id": "01072369",
   "metadata": {},
   "outputs": [],
   "source": [
    "log_avgs = np.log(df[\"Hourly averages\"])\n",
    "errs_avg = [np.mean(np.square(log_avgs - df.iloc[i:i+1][\"Log_Turnover\"])) for i in range(N)]"
   ]
  },
  {
   "cell_type": "code",
   "execution_count": null,
   "id": "37e7aad5",
   "metadata": {},
   "outputs": [],
   "source": [
    "#plt.semilogy(np.mean(np.reshape(errs, (int(len(errs)/I), I)), axis=1), label=\"Average daily prediction error\")\n",
    "plt.xlabel(\"Day of year\"); plt.ylabel(\"MSE error\")\n",
    "plt.semilogy(np.mean(np.reshape(errs_new, (int(len(errs_new)/I), I)), axis=1), label=\"Daily prediction error (Kalman)\")\n",
    "plt.semilogy(np.mean(np.reshape(errs_avg, (int(len(errs_avg)/I), I)), axis=1), linestyle=\"--\", label=\"Daily prediction error (average)\")\n",
    "\n",
    "plt.legend()\n",
    "plt.savefig(\"kalman_errors_year.pdf\")\n",
    "print(\"Average error: {}\".format(np.mean(errs_avg)))\n",
    "print(\"Kalman error: {}\".format(np.mean(errs_new)))"
   ]
  },
  {
   "cell_type": "code",
   "execution_count": null,
   "id": "5850727e",
   "metadata": {},
   "outputs": [],
   "source": [
    "fig, axs = plt.subplots(5, sharex=True, figsize=(5,7))\n",
    "\n",
    "axs[0].semilogy(np.exp(y_pred_new[-I:]),label=\"Predicted turnover (Kalman)\", linestyle=\"-.\", color=\"cornflowerblue\")\n",
    "axs[0].plot(np.exp(df.iloc[-I:][\"Log_Turnover\"].to_numpy()), label=\"True normalized turnover\", color=\"black\")\n",
    "axs[0].plot(df.iloc[-I:][\"Hourly averages\"].to_numpy(), label=\"Predicted turnover (mean)\", color=\"orange\", linestyle=\"--\")\n",
    "\n",
    "for i in range(1,5):\n",
    "    axs[i].semilogy(np.exp(y_pred_new[-I*(i+1):-I*i]), linestyle=\"-.\", color=\"cornflowerblue\")\n",
    "    axs[i].plot(np.exp(df.iloc[-(i+1)*I:-i*I][\"Log_Turnover\"].to_numpy()), color=\"black\")\n",
    "    axs[i].plot(df.iloc[-(i+1)*I:-i*I][\"Hourly averages\"].to_numpy(), color=\"orange\", linestyle=\"--\")\n",
    "\n",
    "daily_labels = [\"9:30\", \"10:30\", \"11:30\", \"12:30\", \"13:30\", \"14:30\", \"15:30\",]\n",
    "plt.xticks(ticks=range(0, I, 2), labels=daily_labels)\n",
    "fig.legend(loc=\"upper center\"); plt.ylabel(\"Normalized turnover\")\n",
    "fig.tight_layout()\n",
    "fig.savefig(\"kalman_prediction.pdf\")"
   ]
  }
 ],
 "metadata": {
  "@webio": {
   "lastCommId": null,
   "lastKernelId": null
  },
  "kernelspec": {
   "display_name": "python3.10",
   "language": "python",
   "name": "python3.10"
  },
  "language_info": {
   "codemirror_mode": {
    "name": "ipython",
    "version": 3
   },
   "file_extension": ".py",
   "mimetype": "text/x-python",
   "name": "python",
   "nbconvert_exporter": "python",
   "pygments_lexer": "ipython3",
   "version": "3.10.13"
  }
 },
 "nbformat": 4,
 "nbformat_minor": 5
}
