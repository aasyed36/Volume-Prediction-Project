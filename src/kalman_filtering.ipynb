{
 "cells": [
  {
   "cell_type": "code",
   "execution_count": null,
   "id": "62047e1a",
   "metadata": {},
   "outputs": [],
   "source": [
    "import numpy as np\n",
    "import pandas as pd\n",
    "import matplotlib.pyplot as plt\n",
    "from scipy.stats import multivariate_normal\n",
    "from statsmodels.graphics.gofplots import qqplot\n",
    "from kalman_predictor import *\n",
    "\n",
    "df = pd.read_csv(\"../data/TAQ_30Min_AAPL_2023_normalized.csv\")\n",
    "df.index = df.datetime\n",
    "df[\"Log_Turnover\"] = np.log(df[\"Normalized_TURNOVER\"])\n",
    "df.info()"
   ]
  },
  {
   "cell_type": "markdown",
   "id": "1d7f473d",
   "metadata": {},
   "source": [
    "## Preliminary: QQ plot\n",
    "Since the Kalman filter paper has one"
   ]
  },
  {
   "cell_type": "code",
   "execution_count": null,
   "id": "340519bf",
   "metadata": {},
   "outputs": [],
   "source": [
    "qq_nolog = qqplot(df[\"Normalized_TURNOVER\"], line=\"s\")\n",
    "plt.tight_layout()\n",
    "plt.show()\n",
    "plt.savefig(\"nolog_qqplot.pdf\")"
   ]
  },
  {
   "cell_type": "code",
   "execution_count": null,
   "id": "d2261f67",
   "metadata": {},
   "outputs": [],
   "source": [
    "qq_log = qqplot(np.log(df[\"Normalized_TURNOVER\"]), line=\"s\")\n",
    "plt.tight_layout()\n",
    "plt.show()\n",
    "plt.savefig(\"log_qqplot.pdf\")"
   ]
  },
  {
   "cell_type": "code",
   "execution_count": null,
   "id": "5498a308",
   "metadata": {},
   "outputs": [],
   "source": [
    "C = np.ones((1,2))\n",
    "C.shape"
   ]
  },
  {
   "cell_type": "markdown",
   "id": "ad699411",
   "metadata": {},
   "source": [
    "## Kalman filtering"
   ]
  },
  {
   "cell_type": "code",
   "execution_count": null,
   "id": "77d11bc0",
   "metadata": {},
   "outputs": [],
   "source": [
    "# set up and run a dimensional test\n",
    "y_1 = df.head(1)[\"Log_Turnover\"]\n",
    "x_1 = np.reshape(np.array([y_1/2, y_1/2]), 2)\n",
    "Sigma_1 = np.eye(2)\n",
    "\n",
    "theta = Params(x_1, np.identity(2)*0.5, 1.0, 1.0, 0.0025, 0.0025, 0.0005, np.array([0.6, 0.25, 0.0, -0.15, -0.3, -0.45, -0.5, -0.6, -0.5, -0.25, -0.3, -0.1, 0.4]))\n",
    "predictor = KalmanPredictor(theta)\n",
    "\n",
    "y_plus = predictor.predict_alike(y_1, x_t=x_1, start_time=0)"
   ]
  },
  {
   "cell_type": "markdown",
   "id": "30f5fbef",
   "metadata": {},
   "source": [
    "## Kalman smoothing"
   ]
  },
  {
   "cell_type": "code",
   "execution_count": null,
   "id": "0e394ef4",
   "metadata": {},
   "outputs": [],
   "source": [
    "ys = df[\"Log_Turnover\"].to_numpy()\n",
    "\n",
    "N_train = 50\n",
    "\n",
    "x_tau_n, Sigma_tau_n, _, _, _ = kalman_smoothing(x_1, ys[0:N_train], Sigma_1, theta)\n",
    "# dimensional check again\n",
    "print(x_tau_n.shape)\n",
    "print(Sigma_tau_n.shape)"
   ]
  },
  {
   "cell_type": "markdown",
   "id": "00721713",
   "metadata": {},
   "source": [
    "## Expectation maximization\n",
    "In this step we want to predict $x_\\tau = [\\eta_\\tau\\ \\mu_\\tau]^\\top \\in \\mathbb{R}^2$ which is the hidden state vector. The variables $\\eta_\\tau$ and $\\mu_\\tau$ are the daily average and intraday dynamic part of the log volume."
   ]
  },
  {
   "cell_type": "code",
   "execution_count": null,
   "id": "8474ac1b",
   "metadata": {},
   "outputs": [],
   "source": [
    "test_params = em(x_1, ys[1:N_train*13], theta, maxsteps=25, tol=0.05)"
   ]
  },
  {
   "cell_type": "code",
   "execution_count": null,
   "id": "84ad214b",
   "metadata": {
    "scrolled": true
   },
   "outputs": [],
   "source": [
    "predictor = KalmanPredictor(test_params) # we already trained them in the previous cell, holdover from previous code"
   ]
  },
  {
   "cell_type": "markdown",
   "id": "af1b67c5",
   "metadata": {},
   "source": [
    "## Test Kalman filter with given params"
   ]
  },
  {
   "cell_type": "code",
   "execution_count": null,
   "id": "f9a6cab5",
   "metadata": {},
   "outputs": [],
   "source": [
    "N = df[\"Log_Turnover\"].size"
   ]
  },
  {
   "cell_type": "code",
   "execution_count": null,
   "id": "3376bc7a",
   "metadata": {},
   "outputs": [],
   "source": [
    "y_t = df[\"Log_Turnover\"].iloc[0]\n",
    "x_t = np.reshape(np.array([y_t/2, y_t/2]), 2)\n",
    "\n",
    "y_pred_new = predictor.predict_alike(df[\"Log_Turnover\"], x_t=x_t)"
   ]
  },
  {
   "cell_type": "code",
   "execution_count": null,
   "id": "6b1a318b",
   "metadata": {},
   "outputs": [],
   "source": [
    "y_t = df.iloc[0][\"Log_Turnover\"]\n",
    "x_t = np.reshape(np.array([y_t/2, y_t/2]), 2)\n",
    "\n",
    "Sigma_t = np.identity(2)\n",
    "\n",
    "y_pred_new = []\n",
    "I = 13\n",
    "for i in range(N):\n",
    "    y_t = df.iloc[i][\"Log_Turnover\"]\n",
    "    x_t, Sigma_t = kalman_filtering(i, x_t, y_t, Sigma_t, test_params)\n",
    "    y_pred_new.append((C@x_t)[0] + test_params.phi[i%I])"
   ]
  },
  {
   "cell_type": "code",
   "execution_count": null,
   "id": "74467801",
   "metadata": {},
   "outputs": [],
   "source": [
    "errs_new = np.square(y_pred_new - df[\"Log_Turnover\"])"
   ]
  },
  {
   "cell_type": "markdown",
   "id": "158022d5",
   "metadata": {},
   "source": [
    "### Comparison: hourly average over the year"
   ]
  },
  {
   "cell_type": "code",
   "execution_count": null,
   "id": "0f036e7e",
   "metadata": {},
   "outputs": [],
   "source": [
    "log_avgs = np.log(df[\"Hourly averages\"])\n",
    "errs_avg = np.square(log_avgs - df[\"Log_Turnover\"])"
   ]
  },
  {
   "cell_type": "code",
   "execution_count": null,
   "id": "d940a9d1",
   "metadata": {},
   "outputs": [],
   "source": [
    "#plt.semilogy(np.mean(np.reshape(errs, (int(len(errs)/I), I)), axis=1), label=\"Average daily prediction error\")\n",
    "plt.xlabel(\"Day of year\"); plt.ylabel(\"MSE error\")\n",
    "plt.semilogy(np.mean(np.reshape(errs_new, (int(len(errs_new)/I), I)), axis=1), label=\"Daily prediction error (Kalman)\")\n",
    "plt.semilogy(np.mean(np.reshape(errs_avg, (int(len(errs_avg)/I), I)), axis=1), linestyle=\"--\", label=\"Daily prediction error (average)\")\n",
    "\n",
    "plt.legend()\n",
    "plt.savefig(\"kalman_errors_year.pdf\")\n",
    "print(\"Average error: {}\".format(np.mean(errs_avg)))\n",
    "print(\"Kalman error: {}\".format(np.mean(errs_new)))"
   ]
  },
  {
   "cell_type": "code",
   "execution_count": null,
   "id": "9be1aa53",
   "metadata": {},
   "outputs": [],
   "source": [
    "fig, axs = plt.subplots(5, sharex=True, figsize=(5,7))\n",
    "\n",
    "axs[0].semilogy(np.exp(y_pred_new[-I:]),label=\"Predicted turnover (Kalman)\", linestyle=\"-.\", color=\"cornflowerblue\")\n",
    "axs[0].plot(np.exp(df.iloc[-I:][\"Log_Turnover\"].to_numpy()), label=\"True normalized turnover\", color=\"black\")\n",
    "axs[0].plot(df.iloc[-I:][\"Hourly averages\"].to_numpy(), label=\"Predicted turnover (mean)\", color=\"orange\", linestyle=\"--\")\n",
    "\n",
    "for i in range(1,5):\n",
    "    axs[i].semilogy(np.exp(y_pred_new[-I*(i+1):-I*i]), linestyle=\"-.\", color=\"cornflowerblue\")\n",
    "    axs[i].plot(np.exp(df.iloc[-(i+1)*I:-i*I][\"Log_Turnover\"].to_numpy()), color=\"black\")\n",
    "    axs[i].plot(df.iloc[-(i+1)*I:-i*I][\"Hourly averages\"].to_numpy(), color=\"orange\", linestyle=\"--\")\n",
    "\n",
    "daily_labels = [\"9:30\", \"10:30\", \"11:30\", \"12:30\", \"13:30\", \"14:30\", \"15:30\",]\n",
    "plt.xticks(ticks=range(0, I, 2), labels=daily_labels)\n",
    "fig.legend(loc=\"upper center\"); plt.ylabel(\"Normalized turnover\")\n",
    "fig.tight_layout()\n",
    "fig.savefig(\"kalman_prediction.pdf\")"
   ]
  }
 ],
 "metadata": {
  "@webio": {
   "lastCommId": null,
   "lastKernelId": null
  },
  "kernelspec": {
   "display_name": "python3.10",
   "language": "python",
   "name": "python3.10"
  },
  "language_info": {
   "codemirror_mode": {
    "name": "ipython",
    "version": 3
   },
   "file_extension": ".py",
   "mimetype": "text/x-python",
   "name": "python",
   "nbconvert_exporter": "python",
   "pygments_lexer": "ipython3",
   "version": "3.10.13"
  }
 },
 "nbformat": 4,
 "nbformat_minor": 5
}
