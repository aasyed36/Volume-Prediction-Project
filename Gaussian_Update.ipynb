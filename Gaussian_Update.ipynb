{
 "cells": [
  {
   "cell_type": "code",
   "execution_count": null,
   "id": "20e589ef",
   "metadata": {},
   "outputs": [],
   "source": [
    "import matplotlib.pyplot as plt"
   ]
  },
  {
   "cell_type": "code",
   "execution_count": null,
   "id": "4bd0c7d9",
   "metadata": {},
   "outputs": [],
   "source": [
    "import numpy as np\n",
    "import pandas as pd\n",
    "df = pd.read_csv(\"data/TAQ_15Min_AAPL_2023.csv\")\n",
    "df.index = df.datetime\n",
    "df.info()"
   ]
  },
  {
   "cell_type": "code",
   "execution_count": null,
   "id": "17de6344",
   "metadata": {},
   "outputs": [],
   "source": [
    "def predict_volumes(mu, Sigma, true_volumes):\n",
    "    \"\"\"\n",
    "    param mu: means\n",
    "    param Sigma: covariance\n",
    "    param true_volumes: true volumes, i.e., means[0] predicts true_volumes[0]\n",
    "    \"\"\"\n",
    "    n= mu.shape[0]\n",
    "    \n",
    "    predictions = np.zeros(n)\n",
    "    predictions[0] = mu[0]\n",
    "    \n",
    "    for i in range(1,n):\n",
    "        ### following Wikipedia's notation, we observe x2 and update x1\n",
    "        \n",
    "        mu1 = mu[i:]\n",
    "        mu2 = mu[:i]\n",
    "        a = true_volumes[:i]\n",
    "        \n",
    "        mu_bar = mu[i:]\n",
    "        Sigma_12 = Sigma[i:, :i]\n",
    "        Sigma_22 = Sigma[:i, :i]\n",
    "        Sigma_21 = Sigma[:i, i:]\n",
    "#         assert Sigma_21 == Sigma_12.T\n",
    "\n",
    "        mu_bar = mu1 + Sigma_12 @ np.linalg.inv(Sigma_22) @ (a-mu2)\n",
    "        \n",
    "        predictions[i] = mu_bar[0]\n",
    "    \n",
    "    return predictions\n",
    "    \n"
   ]
  },
  {
   "cell_type": "code",
   "execution_count": null,
   "id": "3e81e3f7",
   "metadata": {},
   "outputs": [],
   "source": [
    "def lag_col(pd_col, i):\n",
    "    d = {\"VOLUME\" : \"VOLUME_{}\".format(10-i)}\n",
    "    pd_col.rename(columns=d, inplace=True)\n",
    "    return pd_col.shift(-i)[:-9]\n",
    "\n",
    "X1 = pd.concat([lag_col(pd.DataFrame(df[\"VOLUME\"]), i) for i in range(10)], axis=1)\n",
    "times = X1.index\n",
    "X = X1.to_numpy()"
   ]
  },
  {
   "cell_type": "code",
   "execution_count": null,
   "id": "f515a537",
   "metadata": {},
   "outputs": [],
   "source": [
    "np.random.seed(0)\n",
    "\n",
    "A = np.random.normal(size=(10,10))\n",
    "\n",
    "Sigma = A@A.T\n",
    "\n",
    "#X = np.random.multivariate_normal(np.zeros(10),Sigma, 1000)\n",
    "\n",
    "mu = X.mean(axis=0)\n",
    "\n",
    "benchmark_error = ((X-mu)**2).mean()\n",
    "# so we would do 9 updates per row since we have 10 columns \n",
    "\n",
    "mu = X.mean(axis=0)\n",
    "Sigma = np.cov(X[:-1].T)\n",
    "true_volumes = X[-1]\n",
    "\n",
    "pred = predict_volumes(mu, Sigma, true_volumes)\n",
    "print(f\"MSE without mean update: {((mu-true_volumes)**2).mean()}\")\n",
    "print(f\"MSE with mean update: {((pred-true_volumes)**2).mean()}\")"
   ]
  },
  {
   "cell_type": "code",
   "execution_count": null,
   "id": "dce04916",
   "metadata": {},
   "outputs": [],
   "source": [
    "plt.semilogy(range(10), pred, label=\"Predicted\", linestyle=\"dashed\")\n",
    "plt.semilogy(range(-10,1), X1[\"VOLUME_1\"][-20:-9], label=\"Last 10 of data\", color=\"black\")\n",
    "plt.semilogy(range(10), true_volumes, label=\"True\", color=\"blue\")\n",
    "plt.legend()"
   ]
  }
 ],
 "metadata": {
  "kernelspec": {
   "display_name": "Python 3 (ipykernel)",
   "language": "python",
   "name": "python3"
  },
  "language_info": {
   "codemirror_mode": {
    "name": "ipython",
    "version": 3
   },
   "file_extension": ".py",
   "mimetype": "text/x-python",
   "name": "python",
   "nbconvert_exporter": "python",
   "pygments_lexer": "ipython3",
   "version": "3.7.4"
  }
 },
 "nbformat": 4,
 "nbformat_minor": 5
}
